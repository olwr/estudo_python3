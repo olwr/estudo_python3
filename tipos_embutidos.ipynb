{
 "cells": [
  {
   "cell_type": "markdown",
   "metadata": {},
   "source": [
    "# tipos embutidos\n",
    "\n",
    "[documentação](https://docs.python.org/pt-br/3.10/library/stdtypes.html#)"
   ]
  },
  {
   "cell_type": "markdown",
   "metadata": {},
   "source": [
    "os principais tipos embutidos são numéricos, sequências, mapeamentos, classes, instâncias e exceções"
   ]
  },
  {
   "cell_type": "markdown",
   "metadata": {},
   "source": [
    "sequências → é nada mais do que um conjunto de valores ordenados. a ordem é definida pelo índice, que conta a partir de 0. desse modo, listas, tuples e strings podem ser acessadas pelo uso dos [colchetes]"
   ]
  },
  {
   "cell_type": "code",
   "execution_count": 29,
   "metadata": {},
   "outputs": [
    {
     "data": {
      "text/plain": [
       "'sa'"
      ]
     },
     "execution_count": 29,
     "metadata": {},
     "output_type": "execute_result"
    }
   ],
   "source": [
    "pet = 'safira'\n",
    "pet[3]\n",
    "\n",
    "silabas = ('sa', 'fi', 'ra')\n",
    "silabas[0]"
   ]
  },
  {
   "cell_type": "markdown",
   "metadata": {},
   "source": [
    "## tipos de sequências - list, tuple, range\n",
    "\n",
    "existem 3 tipos básicos de sequência: listas, tuples e objetos range"
   ]
  },
  {
   "cell_type": "markdown",
   "metadata": {},
   "source": [
    "list → sequência de valores mutáveis. pode receber uma mistura de valores de outros tipos (str, int, float...)"
   ]
  },
  {
   "cell_type": "code",
   "execution_count": 18,
   "metadata": {},
   "outputs": [
    {
     "name": "stdout",
     "output_type": "stream",
     "text": [
      "[13, 14, 15.0, 16, 'dezessete']\n"
     ]
    }
   ],
   "source": [
    "lista = [13, 14, 15.0, (16)] # list pode ser alterada\n",
    "lista.append(\"dezessete\")\n",
    "\n",
    "print(lista)"
   ]
  },
  {
   "cell_type": "markdown",
   "metadata": {},
   "source": [
    "tuple → sequência de valore imutáveis. pode receber uma mistura de valores de outros tipos (str, int, float...) "
   ]
  },
  {
   "cell_type": "code",
   "execution_count": 9,
   "metadata": {},
   "outputs": [
    {
     "name": "stdout",
     "output_type": "stream",
     "text": [
      "(13, 14, 15.0, 'dezesseis')\n"
     ]
    }
   ],
   "source": [
    "tupla = (13, 14, 15.0, 'dezesseis') # tuple não pode ser alterada\n",
    "\n",
    "print(tupla)"
   ]
  },
  {
   "cell_type": "markdown",
   "metadata": {},
   "source": [
    "range → lista de intervalos entre 2 números definidos "
   ]
  },
  {
   "cell_type": "code",
   "execution_count": 23,
   "metadata": {},
   "outputs": [
    {
     "name": "stdout",
     "output_type": "stream",
     "text": [
      "1\n"
     ]
    }
   ],
   "source": [
    "intervalos = range(0, 10)\n",
    "intervalos = intervalos.count(3)\n",
    "\n",
    "print(intervalos)"
   ]
  },
  {
   "cell_type": "markdown",
   "metadata": {},
   "source": [
    "### operadores comuns de sequências\n",
    "\n",
    "esses operadores funcionam em quase todos os tipos de sequências, ambas mutáveis e imutáveis.\n",
    "\n",
    "**\"a\"** e **\"b\"** → sequências de mesmo tipo\n",
    "\n",
    "**\"n\"**, **\"i\"**, **\"y\"** e **\"m\"** → são inteiros\n",
    "\n",
    "**\"x\"** → objeto arbitrário que atende a qualquer restrição de valor ou tipo imposta por \"a\""
   ]
  },
  {
   "cell_type": "markdown",
   "metadata": {},
   "source": [
    "| operação           | resultado                                                       |\n",
    "| ------------------ | --------------------------------------------------------------- |\n",
    "| `x in a`           | `True` se um item dentro de _a_ seja igual a _x_, senão `False` |\n",
    "| `x not in a`       | `False` se um item dentro de _a_ seja igual a _x_, senão `True` |\n",
    "| `a + b`            | concatenação de _a_ e _b_                                       |\n",
    "| `a * n` ou `n * a` | equivalente a adicionar _a_ a si mesmo _n_ vezes                |\n",
    "| `a[i]`             | item de posição _i_ em _a_ , origem 0                           |\n",
    "| `a[i:y]`           | items de posições entre _i_ até _y_ em _a_                      |\n",
    "| `a[i:y:m]`         | items de posições entre _i_ até _y_ com intervalo _m_ em _a_    |\n",
    "| `len(a)`           | comprimento de _a_                                              |\n",
    "| `min(a)`           | menor item de _a_                                               |\n",
    "| `max(a)`           | maior item de _a_                                               |\n",
    "| `a.index(x)`       | índice da primeira ocorrência de _x_ em _a_                     |\n",
    "| `a.count(x)`       | número total de ocorrências de _x_ em _a_                       |\n"
   ]
  },
  {
   "cell_type": "markdown",
   "metadata": {},
   "source": [
    "sequência do mesmo tipo também suportam comparações. tuplas e listas são comparadas por seus elementos correspondentes. isso significa que cada elemento deve comparar igual e as duas sequências devem ser do mesmo tipo e possuírem o mesmo comprimento"
   ]
  },
  {
   "cell_type": "markdown",
   "metadata": {},
   "source": [
    "**item em variável ↓**"
   ]
  },
  {
   "cell_type": "code",
   "execution_count": 4,
   "metadata": {},
   "outputs": [
    {
     "name": "stdout",
     "output_type": "stream",
     "text": [
      "Não temos abacaxi.\n"
     ]
    }
   ],
   "source": [
    "frutas = ['Banana', 'Maca', 'Pera', 'Uva', 'Melancia', 'Jamelão']\n",
    "\n",
    "fruta_pedida = input('Qual é a fruta que deseja consultar?')\n",
    "\n",
    "if (fruta_pedida in frutas):\n",
    "    print ('Sim, temos {}.'.format(fruta_pedida))\n",
    "else:\n",
    "    print ('Não temos {}.'.format(fruta_pedida))"
   ]
  },
  {
   "cell_type": "code",
   "execution_count": 3,
   "metadata": {},
   "outputs": [
    {
     "name": "stdout",
     "output_type": "stream",
     "text": [
      "aqui está nosso curso de python, aproveite!\n"
     ]
    }
   ],
   "source": [
    "cursos = ('python', 'javascript', 'java', 'c#', 'flutter')\n",
    "\n",
    "linguagem_requisitada = input('Qual linguagem você quer aprender?')\n",
    "\n",
    "if (linguagem_requisitada not in cursos):\n",
    "    print('infelizmente, não disponibilizados cursos de {}'.format(linguagem_requisitada))\n",
    "else:\n",
    "    print('aqui está nosso curso de {}, aproveite!'.format(linguagem_requisitada))"
   ]
  },
  {
   "cell_type": "markdown",
   "metadata": {},
   "source": [
    "geralmente usadas como testes de contenção simples, as operações `in` e `not in` ainda podem realizar testes de subsequências em algumas sequências especializadas (como ***str***, ***bytes*** e ***bytearray***) "
   ]
  },
  {
   "cell_type": "code",
   "execution_count": 5,
   "metadata": {},
   "outputs": [
    {
     "data": {
      "text/plain": [
       "True"
      ]
     },
     "execution_count": 5,
     "metadata": {},
     "output_type": "execute_result"
    }
   ],
   "source": [
    "'seq' in 'sequência'"
   ]
  },
  {
   "cell_type": "markdown",
   "metadata": {},
   "source": [
    "**concatenação de variáveis ↓**"
   ]
  },
  {
   "cell_type": "code",
   "execution_count": 10,
   "metadata": {},
   "outputs": [
    {
     "data": {
      "text/plain": [
       "['hamlet',\n",
       " 'king lear',\n",
       " 'macbeth',\n",
       " 'othello',\n",
       " \"a midsummer night's dream\",\n",
       " 'twelfth night',\n",
       " 'as you like it',\n",
       " \"all's well that ends well\"]"
      ]
     },
     "execution_count": 10,
     "metadata": {},
     "output_type": "execute_result"
    }
   ],
   "source": [
    "tragedias = ['hamlet', 'king lear', 'macbeth', 'othello']\n",
    "comedias = [\"a midsummer night's dream\", \"twelfth night\", \"as you like it\", \"all's well that ends well\"]\n",
    "\n",
    "tragedias + comedias"
   ]
  },
  {
   "cell_type": "markdown",
   "metadata": {},
   "source": [
    "concatenar sequências imutáveis sempre resulta em um novo objeto. a criação de uma sequência por concatenação repetida terá um custo quadrático de tempo de execução no comprimento total da sequência\n",
    "\n",
    "para obter um custo menor de tempo de execução linear, deve-se alternar para uma das alternativas:"
   ]
  },
  {
   "cell_type": "markdown",
   "metadata": {},
   "source": [
    "**variável n vezes ela mesma ↓** "
   ]
  },
  {
   "cell_type": "code",
   "execution_count": 15,
   "metadata": {},
   "outputs": [
    {
     "data": {
      "text/plain": [
       "(1964, 2005, 2007, 2012, 1964, 2005, 2007, 2012, 1964, 2005, 2007, 2012)"
      ]
     },
     "execution_count": 15,
     "metadata": {},
     "output_type": "execute_result"
    }
   ],
   "source": [
    "sequencia = (1964, 2005, 2007, 2012)\n",
    "\n",
    "sequencia * 3"
   ]
  },
  {
   "cell_type": "code",
   "execution_count": 20,
   "metadata": {},
   "outputs": [
    {
     "data": {
      "text/plain": [
       "[[], [], []]"
      ]
     },
     "execution_count": 20,
     "metadata": {},
     "output_type": "execute_result"
    }
   ],
   "source": [
    "vazio = [[]] * 3\n",
    "vazio"
   ]
  },
  {
   "cell_type": "code",
   "execution_count": 21,
   "metadata": {},
   "outputs": [
    {
     "data": {
      "text/plain": [
       "[[3], [3], [3]]"
      ]
     },
     "execution_count": 21,
     "metadata": {},
     "output_type": "execute_result"
    }
   ],
   "source": [
    "vazio[0].append(3)\n",
    "vazio"
   ]
  },
  {
   "cell_type": "code",
   "execution_count": 22,
   "metadata": {},
   "outputs": [
    {
     "data": {
      "text/plain": [
       "[[3], [5], [7]]"
      ]
     },
     "execution_count": 22,
     "metadata": {},
     "output_type": "execute_result"
    }
   ],
   "source": [
    "lista_vazia = [[] for i in range(3)]\n",
    "\n",
    "lista_vazia[0].append(3)\n",
    "lista_vazia[1].append(5)\n",
    "lista_vazia[2].append(7)\n",
    "\n",
    "lista_vazia"
   ]
  },
  {
   "cell_type": "markdown",
   "metadata": {},
   "source": [
    "**menor e maior item de uma variável ↓**"
   ]
  },
  {
   "cell_type": "code",
   "execution_count": null,
   "metadata": {},
   "outputs": [
    {
     "name": "stdout",
     "output_type": "stream",
     "text": [
      "1015\n"
     ]
    }
   ],
   "source": [
    "precos = [1525,1120,1464,1200,1330,1356,1312,1531,1232, 1234,1250,1114,1553,1147,1303,1296,1309,1404,1479,1376,1152,1440,1038,1018,1291,1388,1577,1115,1488,1494,1254,1230,1122,1396,1208,1356,1549,1116,1443,1075,1536,1542,1036,1015,1020,1217,1484,1032,1390,1026 ]\n",
    "\n",
    "print( min(precos))"
   ]
  },
  {
   "cell_type": "code",
   "execution_count": 7,
   "metadata": {},
   "outputs": [
    {
     "name": "stdout",
     "output_type": "stream",
     "text": [
      "1577\n"
     ]
    }
   ],
   "source": [
    "precos = [1525,1120,1464,1200,1330,1356,1312,1531,1232, 1234,1250,1114,1553,1147,1303,1296,1309,1404,1479,1376,1152,1440,1038,1018,1291,1388,1577,1115,1488,1494,1254,1230,1122,1396,1208,1356,1549,1116,1443,1075,1536,1542,1036,1015,1020,1217,1484,1032,1390,1026 ]\n",
    "\n",
    "print( max(precos))"
   ]
  },
  {
   "cell_type": "code",
   "execution_count": 6,
   "metadata": {},
   "outputs": [
    {
     "ename": "TypeError",
     "evalue": "'>' not supported between instances of 'str' and 'int'",
     "output_type": "error",
     "traceback": [
      "\u001b[1;31m---------------------------------------------------------------------------\u001b[0m",
      "\u001b[1;31mTypeError\u001b[0m                                 Traceback (most recent call last)",
      "\u001b[1;32mc:\\Users\\OLIWER\\Documents\\GitHub\\estudo_python3\\tipos_embutidos.ipynb Cell 29\u001b[0m in \u001b[0;36m<cell line: 3>\u001b[1;34m()\u001b[0m\n\u001b[0;32m      <a href='vscode-notebook-cell:/c%3A/Users/OLIWER/Documents/GitHub/estudo_python3/tipos_embutidos.ipynb#X30sZmlsZQ%3D%3D?line=0'>1</a>\u001b[0m precos \u001b[39m=\u001b[39m [ \u001b[39m1050\u001b[39m, \u001b[39m'\u001b[39m\u001b[39mmil reais\u001b[39m\u001b[39m'\u001b[39m, \u001b[39m1020\u001b[39m] \u001b[39m# tipos != de dados\u001b[39;00m\n\u001b[1;32m----> <a href='vscode-notebook-cell:/c%3A/Users/OLIWER/Documents/GitHub/estudo_python3/tipos_embutidos.ipynb#X30sZmlsZQ%3D%3D?line=2'>3</a>\u001b[0m \u001b[39mprint\u001b[39m( \u001b[39mmax\u001b[39;49m(precos))\n",
      "\u001b[1;31mTypeError\u001b[0m: '>' not supported between instances of 'str' and 'int'"
     ]
    }
   ],
   "source": [
    "precos = [ 1050, 'mil reais', 1020] # tipos != de dados\n",
    "\n",
    "print( max(precos))"
   ]
  },
  {
   "cell_type": "markdown",
   "metadata": {},
   "source": [
    "**contagem de ocorrências ↓**"
   ]
  },
  {
   "cell_type": "code",
   "execution_count": null,
   "metadata": {},
   "outputs": [
    {
     "name": "stdout",
     "output_type": "stream",
     "text": [
      "3\n"
     ]
    }
   ],
   "source": [
    "valores = [ 0, 0, 0, 1, 2, 3, 4]\n",
    "\n",
    "print(valores.count(0))"
   ]
  },
  {
   "cell_type": "code",
   "execution_count": null,
   "metadata": {},
   "outputs": [
    {
     "name": "stdout",
     "output_type": "stream",
     "text": [
      "Ainda faltam acertar 6 letras\n"
     ]
    }
   ],
   "source": [
    "letras_acertadas = ['_','_','_','_','_','_']\n",
    "letras_faltando = str(letras_acertadas.count('_'))\n",
    "\n",
    "print( 'Ainda faltam acertar {} letras'.format(letras_faltando))"
   ]
  },
  {
   "cell_type": "markdown",
   "metadata": {},
   "source": [
    "**índice de ocorrências ↓**"
   ]
  },
  {
   "cell_type": "code",
   "execution_count": null,
   "metadata": {},
   "outputs": [
    {
     "name": "stdout",
     "output_type": "stream",
     "text": [
      "3\n"
     ]
    }
   ],
   "source": [
    "\n",
    "frutas = ['Banana', 'Morango', 'Maçã', 'Uva', 'Maçã', 'Uva']\n",
    "\n",
    "print(frutas.index('Uva'))"
   ]
  },
  {
   "cell_type": "code",
   "execution_count": null,
   "metadata": {},
   "outputs": [
    {
     "name": "stdout",
     "output_type": "stream",
     "text": [
      "Desculpe, a Melancia não está na lista frutas\n"
     ]
    }
   ],
   "source": [
    "frutas = ['Banana', 'Morango', 'Maçã', 'Uva']\n",
    "\n",
    "fruta_buscada = 'Melancia'\n",
    "if fruta_buscada in frutas:\n",
    "    print(frutas.index(fruta_buscada))\n",
    "else:\n",
    "    print('Desculpe, a {} não está na lista frutas'.format( fruta_buscada))"
   ]
  },
  {
   "cell_type": "markdown",
   "metadata": {},
   "source": [
    "## type sequência de texto - str\n",
    "\n",
    "[documentação](https://docs.python.org/pt-br/3.10/library/stdtypes.html#text-sequence-type-str)\n",
    "\n",
    "os dados textuais em python são tratados com objetos `str`, ou _strings_. strings são sequências imutáveis de pontos de código unicode\n",
    "\n",
    "podem ser escritas de 3 maneiras:"
   ]
  },
  {
   "cell_type": "code",
   "execution_count": 1,
   "metadata": {},
   "outputs": [
    {
     "data": {
      "text/plain": [
       "('três aspas simples', 'três aspas duplas')"
      ]
     },
     "execution_count": 1,
     "metadata": {},
     "output_type": "execute_result"
    }
   ],
   "source": [
    "# aspas simples \n",
    "'permite o uso embutido de \"aspas duplas\"'\n",
    "\n",
    "# aspas duplas\n",
    "\"permite o uso embutido de 'aspas simples'\"\n",
    "\n",
    "# aspas triplas\n",
    "'''três aspas simples''', \"\"\"três aspas duplas\"\"\""
   ]
  },
  {
   "cell_type": "markdown",
   "metadata": {},
   "source": [
    "aspas triplas podem expandir por várias linhas - todos os espaços em branco associados serão incluídos em literal string\n",
    "\n",
    "os literais strings que fazem parte de uma única expressão e têm apenas espaços em branco entre eles serão implicitamente convertidos em um único literal string"
   ]
  },
  {
   "cell_type": "markdown",
   "metadata": {},
   "source": [
    "por serem imutáveis, métodos que alteram a string devolvem uma nova string, que representa a alteração. Assim, a string original se mantêm inalterada"
   ]
  },
  {
   "cell_type": "code",
   "execution_count": 2,
   "metadata": {},
   "outputs": [
    {
     "data": {
      "text/plain": [
       "'o espaço é convertido em um só'"
      ]
     },
     "execution_count": 2,
     "metadata": {},
     "output_type": "execute_result"
    }
   ],
   "source": [
    "\"o espaço é \" \"convertido em um só\""
   ]
  },
  {
   "cell_type": "code",
   "execution_count": null,
   "metadata": {},
   "outputs": [
    {
     "name": "stdout",
     "output_type": "stream",
     "text": [
      "original\n"
     ]
    }
   ],
   "source": [
    "palavra = \"original\"\n",
    "palavra.capitalize()c\n",
    "print(palavra)"
   ]
  },
  {
   "cell_type": "code",
   "execution_count": null,
   "metadata": {},
   "outputs": [
    {
     "name": "stdout",
     "output_type": "stream",
     "text": [
      "Alterado\n"
     ]
    }
   ],
   "source": [
    "palavra2 = \"alterado\"\n",
    "palavra2 = palavra2.capitalize()\n",
    "print(palavra2)"
   ]
  },
  {
   "cell_type": "markdown",
   "metadata": {},
   "source": [
    "strings possuem suporte para duas formas de formatação de string:\n",
    "\n",
    "`.format()` → que fornece uma ampla flexibilidade e customização\n",
    "    \n",
    "baseada no estilo de formatação `printf` da linguagem C → gama menor de tipo e um pouco mais complicada, porém é geralmente mais rápida para os casos que consegue manipular"
   ]
  },
  {
   "cell_type": "markdown",
   "metadata": {},
   "source": [
    "### métodos de string\n",
    "\n",
    "strings implementam todas as operações comuns de sequências, junto com seus próprios métodos adicionais"
   ]
  }
 ],
 "metadata": {
  "kernelspec": {
   "display_name": "Python 3.10.5 64-bit",
   "language": "python",
   "name": "python3"
  },
  "language_info": {
   "codemirror_mode": {
    "name": "ipython",
    "version": 3
   },
   "file_extension": ".py",
   "mimetype": "text/x-python",
   "name": "python",
   "nbconvert_exporter": "python",
   "pygments_lexer": "ipython3",
   "version": "3.10.5"
  },
  "orig_nbformat": 4,
  "vscode": {
   "interpreter": {
    "hash": "02d28997e0bbd3d3d330398e28dec1d6f415c5a3ce051c661c4f2310b8a7e528"
   }
  }
 },
 "nbformat": 4,
 "nbformat_minor": 2
}
